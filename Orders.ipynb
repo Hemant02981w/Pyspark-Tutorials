{
 "cells": [
  {
   "cell_type": "code",
   "execution_count": 95,
   "metadata": {},
   "outputs": [
    {
     "data": {
      "text/html": [
       "<h2>Importing the packages<h2>\n",
       "<h6> spark and sqlContext are already defined in spark 2.0+ <h6> "
      ],
      "text/plain": [
       "<IPython.core.display.HTML object>"
      ]
     },
     "metadata": {},
     "output_type": "display_data"
    }
   ],
   "source": [
    "%%html\n",
    "<h2>Importing the packages<h2>\n",
    "<h6> spark and sqlContext are already defined in spark 2.0+ <h6> "
   ]
  },
  {
   "cell_type": "code",
   "execution_count": 60,
   "metadata": {},
   "outputs": [],
   "source": [
    "from pyspark.sql.types import *\n",
    "from pyspark.sql import Row"
   ]
  },
  {
   "cell_type": "code",
   "execution_count": 108,
   "metadata": {},
   "outputs": [
    {
     "data": {
      "text/html": [
       "<h6> Defining the schema for the dataset</h6>\n",
       "<body> Defining the schema has an important function here the column <b>customer_id</b> has <b>integer</b> and <b>string </b> values in the dataset\n",
       "       to remove the unwanted string value, here we have defined customer_id of type <b>Integer</b> </body>"
      ],
      "text/plain": [
       "<IPython.core.display.HTML object>"
      ]
     },
     "metadata": {},
     "output_type": "display_data"
    }
   ],
   "source": [
    "%%html\n",
    "<h6> Defining the schema for the dataset</h6>\n",
    "<body> Defining the schema has an important function here the column <b>customer_id</b> has <b>integer</b> and <b>string </b> values in the dataset\n",
    "       to remove the unwanted string value, here we have defined customer_id of type <b>Integer</b> </body>"
   ]
  },
  {
   "cell_type": "code",
   "execution_count": 61,
   "metadata": {},
   "outputs": [],
   "source": [
    "schema = StructType([\n",
    "StructField(\"order_id\", StringType(), True),\n",
    "StructField(\"customer_id\", IntegerType(), True),\n",
    "StructField(\"tshirt_category\", StringType(), True),\n",
    "StructField(\"tshirt_price\", IntegerType(), True),\n",
    "StructField(\"tshirt_quantity\", IntegerType(), True),\n",
    "])"
   ]
  },
  {
   "cell_type": "code",
   "execution_count": 109,
   "metadata": {},
   "outputs": [
    {
     "data": {
      "text/html": [
       "<body> Loading the csv data, removing the header and attaching the schema to the dataframe</body> "
      ],
      "text/plain": [
       "<IPython.core.display.HTML object>"
      ]
     },
     "metadata": {},
     "output_type": "display_data"
    }
   ],
   "source": [
    "%%html\n",
    "<body> Loading the csv data, removing the header and attaching the schema to the dataframe</body> "
   ]
  },
  {
   "cell_type": "code",
   "execution_count": 62,
   "metadata": {},
   "outputs": [],
   "source": [
    "df = spark.read.csv(\"Desktop/Datasets/orders.csv\",header=False,schema=schema)"
   ]
  },
  {
   "cell_type": "code",
   "execution_count": 110,
   "metadata": {},
   "outputs": [
    {
     "data": {
      "text/html": [
       "<body> Filtering out the None Rows from the dataset</body>"
      ],
      "text/plain": [
       "<IPython.core.display.HTML object>"
      ]
     },
     "metadata": {},
     "output_type": "display_data"
    }
   ],
   "source": [
    "%%html\n",
    "<body> Filtering out the None Rows from the dataset</body>"
   ]
  },
  {
   "cell_type": "code",
   "execution_count": 63,
   "metadata": {},
   "outputs": [
    {
     "data": {
      "text/plain": [
       "[Row(order_id=None, customer_id=None, tshirt_category=None, tshirt_price=None, tshirt_quantity=None),\n",
       " Row(order_id='HTS-038040-0002', customer_id=38040, tshirt_category='White T-Shirt M', tshirt_price=20, tshirt_quantity=1)]"
      ]
     },
     "execution_count": 63,
     "metadata": {},
     "output_type": "execute_result"
    }
   ],
   "source": [
    "data = df.filter(df['order_id']!='None')"
   ]
  },
  {
   "cell_type": "code",
   "execution_count": 115,
   "metadata": {},
   "outputs": [
    {
     "data": {
      "text/html": [
       "<body>Creating a Temporary Table <b>orders<b> </body>"
      ],
      "text/plain": [
       "<IPython.core.display.HTML object>"
      ]
     },
     "metadata": {},
     "output_type": "display_data"
    }
   ],
   "source": [
    "%%html\n",
    "<body>Creating a Temporary Table <b>orders<b> </body>"
   ]
  },
  {
   "cell_type": "code",
   "execution_count": 80,
   "metadata": {},
   "outputs": [],
   "source": [
    "data.registerTempTable(\"orders\")"
   ]
  },
  {
   "cell_type": "code",
   "execution_count": 117,
   "metadata": {},
   "outputs": [
    {
     "data": {
      "text/html": [
       "<h6> Solving question</h6>\n",
       "<body> 1 .Number of order placed by each customer_id and the total price he/she paid</body>"
      ],
      "text/plain": [
       "<IPython.core.display.HTML object>"
      ]
     },
     "metadata": {},
     "output_type": "display_data"
    }
   ],
   "source": [
    "%%html\n",
    "<h6> Solving question</h6>\n",
    "<body> 1 .Number of order placed by each customer_id and the total price he/she paid</body>"
   ]
  },
  {
   "cell_type": "code",
   "execution_count": 119,
   "metadata": {},
   "outputs": [
    {
     "name": "stdout",
     "output_type": "stream",
     "text": [
      "+-----------+------------+----+\n",
      "|customer_id|number_order|cost|\n",
      "+-----------+------------+----+\n",
      "|     234080|           2|  36|\n",
      "|     109608|           1|  23|\n",
      "|      71527|           5| 104|\n",
      "|     350109|           3|  64|\n",
      "|     849543|           2|  42|\n",
      "|     999122|           6| 134|\n",
      "|     280383|           2|  47|\n",
      "|     966765|           1|  24|\n",
      "|     710614|           1|  19|\n",
      "|      47283|           5|  96|\n",
      "|     166150|           5|  97|\n",
      "|     812641|           1|  18|\n",
      "|     318585|           4|  79|\n",
      "|     167881|           1|  23|\n",
      "|     691372|           2|  43|\n",
      "|     357089|           2|  46|\n",
      "|     486875|           1|  18|\n",
      "|      18800|           2|  37|\n",
      "|     601660|           3|  59|\n",
      "|     362395|           3|  60|\n",
      "+-----------+------------+----+\n",
      "only showing top 20 rows\n",
      "\n"
     ]
    }
   ],
   "source": [
    "order_Count = spark.sql(\"select customer_id,count(order_id)as number_order,sum(tshirt_price)as cost from orders group by customer_id\")\n",
    "order_Count.show()"
   ]
  },
  {
   "cell_type": "code",
   "execution_count": 121,
   "metadata": {},
   "outputs": [
    {
     "data": {
      "text/html": [
       "<body>2. Total sales of the different category of t-shirt </body>"
      ],
      "text/plain": [
       "<IPython.core.display.HTML object>"
      ]
     },
     "metadata": {},
     "output_type": "display_data"
    }
   ],
   "source": [
    "%%html\n",
    "<body>2. Total sales of the different category of t-shirt </body>"
   ]
  },
  {
   "cell_type": "code",
   "execution_count": 122,
   "metadata": {},
   "outputs": [
    {
     "name": "stdout",
     "output_type": "stream",
     "text": [
      "+---------------+-----------+\n",
      "|tshirt_category|total_sales|\n",
      "+---------------+-----------+\n",
      "|    Wh Tshirt F|        701|\n",
      "|Black T-Shirt F|       8966|\n",
      "|         Hoodie|      16638|\n",
      "|    Bl Tshirt F|        557|\n",
      "|White T-Shirt M|      14888|\n",
      "|Black T-Shirt M|      11661|\n",
      "|White T-Shirt F|       9164|\n",
      "|   Tennis Shirt|       6724|\n",
      "|    Bl Tshirt M|        974|\n",
      "|    Wh Tshirt M|       1242|\n",
      "+---------------+-----------+\n",
      "\n"
     ]
    }
   ],
   "source": [
    "sales = spark.sql(\"select tshirt_category,sum(tshirt_quantity) as total_sales from orders group by tshirt_category\")\n",
    "sales.show()"
   ]
  }
 ],
 "metadata": {
  "kernelspec": {
   "display_name": "Python 3",
   "language": "python",
   "name": "python3"
  },
  "language_info": {
   "codemirror_mode": {
    "name": "ipython",
    "version": 3
   },
   "file_extension": ".py",
   "mimetype": "text/x-python",
   "name": "python",
   "nbconvert_exporter": "python",
   "pygments_lexer": "ipython3",
   "version": "3.6.4"
  }
 },
 "nbformat": 4,
 "nbformat_minor": 2
}
